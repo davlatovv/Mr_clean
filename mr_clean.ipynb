{
  "cells": [
    {
      "cell_type": "markdown",
      "metadata": {
        "id": "view-in-github",
        "colab_type": "text"
      },
      "source": [
        "<a href=\"https://colab.research.google.com/github/talxa/Mr_clean/blob/main/mr_clean.ipynb\" target=\"_parent\"><img src=\"https://colab.research.google.com/assets/colab-badge.svg\" alt=\"Open In Colab\"/></a>"
      ]
    },
    {
      "cell_type": "code",
      "execution_count": null,
      "metadata": {
        "id": "bMYhPsDsqXNU"
      },
      "outputs": [],
      "source": [
        "import requests\n",
        "import re\n",
        "import seaborn as sb"
      ]
    },
    {
      "cell_type": "code",
      "execution_count": null,
      "metadata": {
        "id": "6wAPwLX19tu0"
      },
      "outputs": [],
      "source": [
        "def get_content(article_name):\n",
        "  params = {\n",
        "            'action': 'query',\n",
        "            'prop': 'extracts',\n",
        "            'titles': article_name,\n",
        "            'format': 'json',\n",
        "        }\n",
        "  req = requests.get('https://en.wikipedia.org/w/api.php', params=params)\n",
        "  data = req.json()\n",
        "  data = data['query']['pages']['22834']['extract']\n",
        "  html = re.compile('<.*?>')\n",
        "  clean = re.sub(html, '', data)  \n",
        "  return clean\n",
        "data = get_content('Ozone_layer')"
      ]
    },
    {
      "cell_type": "code",
      "source": [
        "def merge_contents(data):\n",
        "  remove = re.split(\"\\. |, |\\.|\\n| |-|\\'\", data) \n",
        "  return remove\n",
        "content = merge_contents(data)"
      ],
      "metadata": {
        "id": "z6RqIXTYnpUx"
      },
      "execution_count": null,
      "outputs": []
    },
    {
      "cell_type": "code",
      "source": [
        "def tokenize(content):\n",
        "  special_char_removed = [word for word in content if word.isalnum()]\n",
        "  num_removed = [word for word in special_char_removed if not word.isdigit()]\n",
        "  return num_removed\n",
        "collection = tokenize(content)"
      ],
      "metadata": {
        "id": "SJbaYww0snq2"
      },
      "execution_count": null,
      "outputs": []
    },
    {
      "cell_type": "code",
      "source": [
        "def lower_collection(collection):\n",
        "  return [word.lower() for word in collection]\n",
        "words = lower_collection(collection)"
      ],
      "metadata": {
        "id": "kDn_sY3UuqfS"
      },
      "execution_count": null,
      "outputs": []
    },
    {
      "cell_type": "code",
      "source": [
        "stop_words = [\"uv\", \"s\", \"o\", \"m\", \"a\", \"about\", \"above\", \"above\", \"across\", \"after\", \"afterwards\", \"again\", \"against\", \"all\", \"almost\", \"alone\", \"along\", \"already\", \"also\",\"although\",\"always\",\"am\",\"among\", \"amongst\", \"amoungst\", \"amount\",  \"an\", \"and\", \"another\", \"any\",\"anyhow\",\"anyone\",\"anything\",\"anyway\", \"anywhere\", \"are\", \"around\", \"as\",  \"at\", \"back\",\"be\",\"became\", \"because\",\"become\",\"becomes\", \"becoming\", \"been\", \"before\", \"beforehand\", \"behind\", \"being\", \"below\", \"beside\", \"besides\", \"between\", \"beyond\", \"bill\", \"both\", \"bottom\",\"but\", \"by\", \"call\", \"can\", \"cannot\", \"cant\", \"co\", \"con\", \"could\", \"couldnt\", \"cry\", \"de\", \"describe\", \"detail\", \"do\", \"done\", \"down\", \"due\", \"during\", \"each\", \"eg\", \"eight\", \"either\", \"eleven\",\"else\", \"elsewhere\", \"empty\", \"enough\", \"etc\", \"even\", \"ever\", \"every\", \"everyone\", \"everything\", \"everywhere\", \"except\", \"few\", \"fifteen\", \"fify\", \"fill\", \"find\", \"fire\", \"first\", \"five\", \"for\", \"former\", \"formerly\", \"forty\", \"found\", \"four\", \"from\", \"front\", \"full\", \"further\", \"get\", \"give\", \"go\", \"had\", \"has\", \"hasnt\", \"have\", \"he\", \"hence\", \"her\", \"here\", \"hereafter\", \"hereby\", \"herein\", \"hereupon\", \"hers\", \"herself\", \"him\", \"himself\", \"his\", \"how\", \"however\", \"hundred\", \"ie\", \"if\", \"in\", \"inc\", \"indeed\", \"interest\", \"into\", \"is\", \"it\", \"its\", \"itself\", \"keep\", \"last\", \"latter\", \"latterly\", \"least\", \"less\", \"ltd\", \"made\", \"many\", \"may\", \"me\", \"meanwhile\", \"might\", \"mill\", \"mine\", \"more\", \"moreover\", \"most\", \"mostly\", \"move\", \"much\", \"must\", \"my\", \"myself\", \"name\", \"namely\", \"neither\", \"never\", \"nevertheless\", \"next\", \"nine\", \"no\", \"nobody\", \"none\", \"noone\", \"nor\", \"not\", \"nothing\", \"now\", \"nowhere\", \"of\", \"off\", \"often\", \"on\", \"once\", \"one\", \"only\", \"onto\", \"or\", \"other\", \"others\", \"otherwise\", \"our\", \"ours\", \"ourselves\", \"out\", \"over\", \"own\",\"part\", \"per\", \"perhaps\", \"please\", \"put\", \"rather\", \"re\", \"same\", \"see\", \"seem\", \"seemed\", \"seeming\", \"seems\", \"serious\", \"several\", \"she\", \"should\", \"show\", \"side\", \"since\", \"sincere\", \"six\", \"sixty\", \"so\", \"some\", \"somehow\", \"someone\", \"something\", \"sometime\", \"sometimes\", \"somewhere\", \"still\", \"such\", \"system\", \"take\", \"ten\", \"than\", \"that\", \"the\", \"their\", \"them\", \"themselves\", \"then\", \"thence\", \"there\", \"thereafter\", \"thereby\", \"therefore\", \"therein\", \"thereupon\", \"these\", \"they\", \"thick\", \"thin\", \"third\", \"this\", \"those\", \"though\", \"three\", \"through\", \"throughout\", \"thru\", \"thus\", \"to\", \"together\", \"too\", \"top\", \"toward\", \"towards\", \"twelve\", \"twenty\", \"two\", \"un\", \"under\", \"until\", \"up\", \"upon\", \"us\", \"very\", \"via\", \"was\", \"we\", \"well\", \"were\", \"what\", \"whatever\", \"when\", \"whence\", \"whenever\", \"where\", \"whereafter\", \"whereas\", \"whereby\", \"wherein\", \"whereupon\", \"wherever\", \"whether\", \"which\", \"while\", \"whither\", \"who\", \"whoever\", \"whole\", \"whom\", \"whose\", \"why\", \"will\", \"with\", \"within\", \"without\", \"would\", \"yet\", \"you\", \"your\", \"yours\", \"yourself\", \"yourselves\", \"the\"]\n",
        "\n",
        "def remove_stop_words(words, stop_words):\n",
        "  txt_without_stop = [word for word in words if word not in stop_words]\n",
        "  return txt_without_stop\n",
        "without_stop_words = remove_stop_words(words, stop_words)"
      ],
      "metadata": {
        "id": "8PjH1w7B85sC"
      },
      "execution_count": null,
      "outputs": []
    },
    {
      "cell_type": "code",
      "source": [
        "def count_frequency(collection):\n",
        "  frequency = {}\n",
        "  for word in collection:\n",
        "    if word in frequency:\n",
        "      frequency[word] +=1\n",
        "    else:\n",
        "      frequency[word] = 1 \n",
        "  frequencies = {k : v for k, v in sorted(frequency.items(),\n",
        "                                          key = lambda item: item[1],\n",
        "                                          reverse = True)}\n",
        "  return frequencies\n",
        "frequencies = count_frequency(without_stop_words)"
      ],
      "metadata": {
        "id": "S__C-2ufv30_"
      },
      "execution_count": null,
      "outputs": []
    },
    {
      "cell_type": "code",
      "source": [
        "def print_most_frequent(frequencies, n):\n",
        "    keys = [k for k,v in frequencies.items()]\n",
        "    values = [v for k,v in frequencies.items()]\n",
        "    most_frequent = sb.barplot(x= values[0:n] ,y= keys[0:n])\n",
        "print_most_frequent(frequencies, 20)"
      ],
      "metadata": {
        "colab": {
          "base_uri": "https://localhost:8080/",
          "height": 265
        },
        "id": "9L9WbwdC4Fwr",
        "outputId": "eb6dd026-9226-4fef-83d9-846667358db6"
      },
      "execution_count": null,
      "outputs": [
        {
          "output_type": "display_data",
          "data": {
            "text/plain": [
              "<Figure size 432x288 with 1 Axes>"
            ],
            "image/png": "[encoded data removed]"
          },
          "metadata": {
            "needs_background": "light"
          }
        }
      ]
    },
    {
      "cell_type": "code",
      "source": [
        ""
      ],
      "metadata": {
        "id": "ly4s-0GjdV3x"
      },
      "execution_count": null,
      "outputs": []
    }
  ],
  "metadata": {
    "colab": {
      "name": "mr.clean.ipynb",
      "provenance": [],
      "collapsed_sections": [],
      "authorship_tag": "ABX9TyO9h33STtgaY/8fWZkQg8K/",
      "include_colab_link": true
    },
    "kernelspec": {
      "display_name": "Python 3",
      "name": "python3"
    },
    "language_info": {
      "name": "python"
    }
  },
  "nbformat": 4,
  "nbformat_minor": 0
}